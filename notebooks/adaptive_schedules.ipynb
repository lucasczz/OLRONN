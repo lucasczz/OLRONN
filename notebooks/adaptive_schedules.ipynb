{
 "cells": [
  {
   "cell_type": "code",
   "execution_count": 1,
   "metadata": {},
   "outputs": [],
   "source": [
    "from utils import *\n",
    "import pandas as pd \n",
    "import numpy as np "
   ]
  },
  {
   "cell_type": "code",
   "execution_count": 2,
   "metadata": {},
   "outputs": [],
   "source": [
    "def get_resetter_params(row):\n",
    "    if \"_\" in row:\n",
    "        return float(row.split(\"_\")[-1])\n",
    "    else:\n",
    "        return"
   ]
  },
  {
   "cell_type": "code",
   "execution_count": 3,
   "metadata": {},
   "outputs": [],
   "source": [
    "df = pd.read_csv(\"../reports/adaptive_schedules/v7.csv.zip\")\n",
    "df = df[~df['resetter'].isin([ 'P-KSWIN_1', 'P-KSWIN_0.5',\n",
    "       'P-KSWIN_0.125', 'P-KSWIN_0.0625'])] \n",
    "df['resetter'] = df['resetter'].replace('P-KSWIN_0.5', 'P-KSWIN')\n",
    "df[\"accuracy\"] *= 100"
   ]
  },
  {
   "cell_type": "code",
   "execution_count": 4,
   "metadata": {},
   "outputs": [
    {
     "data": {
      "text/plain": [
       "array(['Insects incr.', 'Insects gradual', 'RBF abrupt', 'RBF incr.',\n",
       "       'SEA', 'Insects abrupt', 'Electricity', 'Covertype'], dtype=object)"
      ]
     },
     "execution_count": 4,
     "metadata": {},
     "output_type": "execute_result"
    }
   ],
   "source": [
    "df.dataset.unique()"
   ]
  },
  {
   "cell_type": "code",
   "execution_count": 5,
   "metadata": {},
   "outputs": [],
   "source": [
    "# df = df[(df[\"resetter\"] != \"P-KSWIN\") | (df[\"reset_lr\"] == 0.5)]\n",
    "df = df[( df[\"gamma\"] == 1 - 2**-12 ) | (df['resetter'] == 'Kuncheva')]\n",
    "df = df[[\"dataset\", \"resetter\", \"accuracy\", 'base_lr', 'seed']]"
   ]
  },
  {
   "cell_type": "code",
   "execution_count": 6,
   "metadata": {},
   "outputs": [],
   "source": [
    "# Define which data to show in table\n",
    "datasets = [\n",
    "    \"RBF abrupt\",\n",
    "    \"RBF incr.\",\n",
    "    \"Covertype\",\n",
    "    \"Electricity\",\n",
    "    \"Insects abrupt\",\n",
    "    \"Insects gradual\",\n",
    "    \"Insects incr.\",\n",
    "]\n",
    "ks = [1, 3]\n",
    "columns = [(dataset, \"accuracy\") for dataset in datasets]\n",
    "for k in ks:\n",
    "    df = df[df[\"dataset\"].isin(datasets)]\n",
    "    table = get_topk_results(\n",
    "        df,\n",
    "        other_variables=[\"dataset\", \"resetter\"],\n",
    "        top_variable=\"base_lr\",\n",
    "        k=k,\n",
    "    )\n",
    "    table = table[[\"dataset\", \"resetter\", \"accuracy_mean\", \"accuracy_std\"]]\n",
    "    table = col_to_header(table, \"dataset\", index=[\"resetter\"])\n",
    "    mask_best = get_best_within_std(\n",
    "        table, params_fixed=[], metrics=columns, modes=\"max\"\n",
    "    )\n",
    "    table = merge_mean_std(table, columns, formats=\"{:.2f}\")\n",
    "    style = table.style\n",
    "    style = apply_style_attribute(style, mask=mask_best)\n",
    "    style.to_latex(f\"../pub/tables/lr_resetting_top{k}.tex\", hrules=True)"
   ]
  },
  {
   "cell_type": "code",
   "execution_count": 7,
   "metadata": {},
   "outputs": [
    {
     "data": {
      "text/html": [
       "<style type=\"text/css\">\n",
       "#T_7bef7_row0_col1, #T_7bef7_row0_col3, #T_7bef7_row0_col5, #T_7bef7_row2_col0, #T_7bef7_row2_col4, #T_7bef7_row3_col1, #T_7bef7_row3_col2, #T_7bef7_row3_col3, #T_7bef7_row3_col4, #T_7bef7_row3_col5, #T_7bef7_row3_col6, #T_7bef7_row5_col1, #T_7bef7_row5_col3, #T_7bef7_row5_col5, #T_7bef7_row6_col1, #T_7bef7_row6_col2, #T_7bef7_row6_col3 {\n",
       "  bfseries: ;\n",
       "}\n",
       "</style>\n",
       "<table id=\"T_7bef7\">\n",
       "  <thead>\n",
       "    <tr>\n",
       "      <th class=\"blank level0\" >&nbsp;</th>\n",
       "      <th id=\"T_7bef7_level0_col0\" class=\"col_heading level0 col0\" >RBF abrupt</th>\n",
       "      <th id=\"T_7bef7_level0_col1\" class=\"col_heading level0 col1\" >RBF incr.</th>\n",
       "      <th id=\"T_7bef7_level0_col2\" class=\"col_heading level0 col2\" >Covertype</th>\n",
       "      <th id=\"T_7bef7_level0_col3\" class=\"col_heading level0 col3\" >Electricity</th>\n",
       "      <th id=\"T_7bef7_level0_col4\" class=\"col_heading level0 col4\" >Insects abrupt</th>\n",
       "      <th id=\"T_7bef7_level0_col5\" class=\"col_heading level0 col5\" >Insects gradual</th>\n",
       "      <th id=\"T_7bef7_level0_col6\" class=\"col_heading level0 col6\" >Insects incr.</th>\n",
       "    </tr>\n",
       "    <tr>\n",
       "      <th class=\"blank level1\" >&nbsp;</th>\n",
       "      <th id=\"T_7bef7_level1_col0\" class=\"col_heading level1 col0\" >accuracy</th>\n",
       "      <th id=\"T_7bef7_level1_col1\" class=\"col_heading level1 col1\" >accuracy</th>\n",
       "      <th id=\"T_7bef7_level1_col2\" class=\"col_heading level1 col2\" >accuracy</th>\n",
       "      <th id=\"T_7bef7_level1_col3\" class=\"col_heading level1 col3\" >accuracy</th>\n",
       "      <th id=\"T_7bef7_level1_col4\" class=\"col_heading level1 col4\" >accuracy</th>\n",
       "      <th id=\"T_7bef7_level1_col5\" class=\"col_heading level1 col5\" >accuracy</th>\n",
       "      <th id=\"T_7bef7_level1_col6\" class=\"col_heading level1 col6\" >accuracy</th>\n",
       "    </tr>\n",
       "    <tr>\n",
       "      <th class=\"index_name level0\" >resetter</th>\n",
       "      <th class=\"blank col0\" >&nbsp;</th>\n",
       "      <th class=\"blank col1\" >&nbsp;</th>\n",
       "      <th class=\"blank col2\" >&nbsp;</th>\n",
       "      <th class=\"blank col3\" >&nbsp;</th>\n",
       "      <th class=\"blank col4\" >&nbsp;</th>\n",
       "      <th class=\"blank col5\" >&nbsp;</th>\n",
       "      <th class=\"blank col6\" >&nbsp;</th>\n",
       "    </tr>\n",
       "  </thead>\n",
       "  <tbody>\n",
       "    <tr>\n",
       "      <th id=\"T_7bef7_level0_row0\" class=\"row_heading level0 row0\" >ADWIN</th>\n",
       "      <td id=\"T_7bef7_row0_col0\" class=\"data row0 col0\" >94.28±.37</td>\n",
       "      <td id=\"T_7bef7_row0_col1\" class=\"data row0 col1\" >69.76±.92</td>\n",
       "      <td id=\"T_7bef7_row0_col2\" class=\"data row0 col2\" >82.70±.27</td>\n",
       "      <td id=\"T_7bef7_row0_col3\" class=\"data row0 col3\" >73.05±.45</td>\n",
       "      <td id=\"T_7bef7_row0_col4\" class=\"data row0 col4\" >71.27±.14</td>\n",
       "      <td id=\"T_7bef7_row0_col5\" class=\"data row0 col5\" >74.75±.21</td>\n",
       "      <td id=\"T_7bef7_row0_col6\" class=\"data row0 col6\" >60.26±.10</td>\n",
       "    </tr>\n",
       "    <tr>\n",
       "      <th id=\"T_7bef7_level0_row1\" class=\"row_heading level0 row1\" >ADWIN Weight Reset</th>\n",
       "      <td id=\"T_7bef7_row1_col0\" class=\"data row1 col0\" >66.24±.55</td>\n",
       "      <td id=\"T_7bef7_row1_col1\" class=\"data row1 col1\" >61.12±.38</td>\n",
       "      <td id=\"T_7bef7_row1_col2\" class=\"data row1 col2\" >81.71±.06</td>\n",
       "      <td id=\"T_7bef7_row1_col3\" class=\"data row1 col3\" >69.06±.90</td>\n",
       "      <td id=\"T_7bef7_row1_col4\" class=\"data row1 col4\" >47.87±.34</td>\n",
       "      <td id=\"T_7bef7_row1_col5\" class=\"data row1 col5\" >58.95±1.10</td>\n",
       "      <td id=\"T_7bef7_row1_col6\" class=\"data row1 col6\" >30.51±.19</td>\n",
       "    </tr>\n",
       "    <tr>\n",
       "      <th id=\"T_7bef7_level0_row2\" class=\"row_heading level0 row2\" >Ground Truth</th>\n",
       "      <td id=\"T_7bef7_row2_col0\" class=\"data row2 col0\" >94.58±.27</td>\n",
       "      <td id=\"T_7bef7_row2_col1\" class=\"data row2 col1\" >nan±nan</td>\n",
       "      <td id=\"T_7bef7_row2_col2\" class=\"data row2 col2\" >nan±nan</td>\n",
       "      <td id=\"T_7bef7_row2_col3\" class=\"data row2 col3\" >nan±nan</td>\n",
       "      <td id=\"T_7bef7_row2_col4\" class=\"data row2 col4\" >71.43±.13</td>\n",
       "      <td id=\"T_7bef7_row2_col5\" class=\"data row2 col5\" >nan±nan</td>\n",
       "      <td id=\"T_7bef7_row2_col6\" class=\"data row2 col6\" >nan±nan</td>\n",
       "    </tr>\n",
       "    <tr>\n",
       "      <th id=\"T_7bef7_level0_row3\" class=\"row_heading level0 row3\" >KSWIN</th>\n",
       "      <td id=\"T_7bef7_row3_col0\" class=\"data row3 col0\" >94.23±.55</td>\n",
       "      <td id=\"T_7bef7_row3_col1\" class=\"data row3 col1\" >70.10±1.98</td>\n",
       "      <td id=\"T_7bef7_row3_col2\" class=\"data row3 col2\" >83.01±.06</td>\n",
       "      <td id=\"T_7bef7_row3_col3\" class=\"data row3 col3\" >73.13±.31</td>\n",
       "      <td id=\"T_7bef7_row3_col4\" class=\"data row3 col4\" >71.38±.16</td>\n",
       "      <td id=\"T_7bef7_row3_col5\" class=\"data row3 col5\" >74.71±.20</td>\n",
       "      <td id=\"T_7bef7_row3_col6\" class=\"data row3 col6\" >60.62±.19</td>\n",
       "    </tr>\n",
       "    <tr>\n",
       "      <th id=\"T_7bef7_level0_row4\" class=\"row_heading level0 row4\" >Kuncheva</th>\n",
       "      <td id=\"T_7bef7_row4_col0\" class=\"data row4 col0\" >68.51±4.28</td>\n",
       "      <td id=\"T_7bef7_row4_col1\" class=\"data row4 col1\" >42.19±.64</td>\n",
       "      <td id=\"T_7bef7_row4_col2\" class=\"data row4 col2\" >76.96±.08</td>\n",
       "      <td id=\"T_7bef7_row4_col3\" class=\"data row4 col3\" >67.04±.02</td>\n",
       "      <td id=\"T_7bef7_row4_col4\" class=\"data row4 col4\" >66.63±.31</td>\n",
       "      <td id=\"T_7bef7_row4_col5\" class=\"data row4 col5\" >71.91±.35</td>\n",
       "      <td id=\"T_7bef7_row4_col6\" class=\"data row4 col6\" >52.07±.04</td>\n",
       "    </tr>\n",
       "    <tr>\n",
       "      <th id=\"T_7bef7_level0_row5\" class=\"row_heading level0 row5\" >OneTailedADWIN</th>\n",
       "      <td id=\"T_7bef7_row5_col0\" class=\"data row5 col0\" >94.25±.38</td>\n",
       "      <td id=\"T_7bef7_row5_col1\" class=\"data row5 col1\" >70.22±2.58</td>\n",
       "      <td id=\"T_7bef7_row5_col2\" class=\"data row5 col2\" >82.64±.20</td>\n",
       "      <td id=\"T_7bef7_row5_col3\" class=\"data row5 col3\" >73.00±.50</td>\n",
       "      <td id=\"T_7bef7_row5_col4\" class=\"data row5 col4\" >71.25±.15</td>\n",
       "      <td id=\"T_7bef7_row5_col5\" class=\"data row5 col5\" >74.76±.14</td>\n",
       "      <td id=\"T_7bef7_row5_col6\" class=\"data row5 col6\" >60.28±.11</td>\n",
       "    </tr>\n",
       "    <tr>\n",
       "      <th id=\"T_7bef7_level0_row6\" class=\"row_heading level0 row6\" >P-KSWIN_0.25</th>\n",
       "      <td id=\"T_7bef7_row6_col0\" class=\"data row6 col0\" >93.86±.48</td>\n",
       "      <td id=\"T_7bef7_row6_col1\" class=\"data row6 col1\" >70.71±1.38</td>\n",
       "      <td id=\"T_7bef7_row6_col2\" class=\"data row6 col2\" >83.01±.18</td>\n",
       "      <td id=\"T_7bef7_row6_col3\" class=\"data row6 col3\" >73.26±.43</td>\n",
       "      <td id=\"T_7bef7_row6_col4\" class=\"data row6 col4\" >71.25±.15</td>\n",
       "      <td id=\"T_7bef7_row6_col5\" class=\"data row6 col5\" >74.48±.25</td>\n",
       "      <td id=\"T_7bef7_row6_col6\" class=\"data row6 col6\" >59.95±.10</td>\n",
       "    </tr>\n",
       "  </tbody>\n",
       "</table>\n"
      ],
      "text/plain": [
       "<pandas.io.formats.style.Styler at 0x7ffa0edd6e80>"
      ]
     },
     "execution_count": 7,
     "metadata": {},
     "output_type": "execute_result"
    }
   ],
   "source": [
    "style"
   ]
  }
 ],
 "metadata": {
  "kernelspec": {
   "display_name": "adalr",
   "language": "python",
   "name": "python3"
  },
  "language_info": {
   "codemirror_mode": {
    "name": "ipython",
    "version": 3
   },
   "file_extension": ".py",
   "mimetype": "text/x-python",
   "name": "python",
   "nbconvert_exporter": "python",
   "pygments_lexer": "ipython3",
   "version": "3.9.16"
  },
  "orig_nbformat": 4
 },
 "nbformat": 4,
 "nbformat_minor": 2
}
