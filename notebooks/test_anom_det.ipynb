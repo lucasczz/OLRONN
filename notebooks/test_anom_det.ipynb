{
 "cells": [
  {
   "cell_type": "code",
   "execution_count": 1,
   "id": "90603627",
   "metadata": {},
   "outputs": [],
   "source": [
    "import pandas as pd\n",
    "from sklearn.datasets import fetch_covtype\n",
    "import numpy as np\n",
    "from tqdm import tqdm\n",
    "import copy\n",
    "\n",
    "from river.datasets import synth\n",
    "from src.models.networks import get_mlp\n",
    "from src.data.datasets import get_dataset, river2np_dataset\n",
    "from src.models.networks import get_mlp, get_autoencoder\n",
    "import torchvision.transforms as transforms\n",
    "from torchvision.datasets import MNIST\n",
    "import torch\n",
    "from torch import nn\n",
    "import torch.nn.functional as F\n",
    "from torch.utils.data import TensorDataset, DataLoader\n",
    "from sklearn.metrics import roc_auc_score\n",
    "from sklearn.preprocessing import LabelEncoder, StandardScaler\n",
    "import matplotlib.pyplot as plt\n",
    "\n",
    "from torchvision.datasets import MNIST, FashionMNIST\n",
    "\n",
    "from sklearn.ensemble import IsolationForest\n",
    "from river.anomaly import HalfSpaceTrees"
   ]
  },
  {
   "cell_type": "code",
   "execution_count": 11,
   "id": "320fc104",
   "metadata": {},
   "outputs": [],
   "source": [
    "anom_type = \"ood\"\n",
    "anom_proba = 0.05\n",
    "anom_len = 2\n",
    "anom_class = 3\n",
    "device = \"cuda:0\"\n",
    "ood_type = \"classes\"\n",
    "\n",
    "id_classes = [1, 2]\n",
    "ood_classes = [4]"
   ]
  },
  {
   "cell_type": "code",
   "execution_count": 6,
   "id": "4d3dbc02",
   "metadata": {},
   "outputs": [],
   "source": [
    "def get_anom_idcs(total_len, anom_len=6, anom_proba=0.05):\n",
    "    anom_insert_idcs = []\n",
    "    current_is_anom = False\n",
    "\n",
    "    adj_anom_proba = anom_proba / (1 - anom_proba)\n",
    "    p_anom_normal = 1 / anom_len\n",
    "    p_normal_anom = adj_anom_proba / (anom_len * (1 - adj_anom_proba))\n",
    "\n",
    "    exit_probas = {False: p_normal_anom, True: p_anom_normal}\n",
    "    for idx, p in enumerate(np.random.rand(total_len)):\n",
    "        if p < exit_probas[current_is_anom]:\n",
    "            current_is_anom = not current_is_anom\n",
    "        if current_is_anom:\n",
    "            anom_insert_idcs.append(idx)\n",
    "    return anom_insert_idcs[::-1]"
   ]
  },
  {
   "cell_type": "code",
   "execution_count": 12,
   "id": "ac75b11c",
   "metadata": {},
   "outputs": [],
   "source": [
    "np.random.seed(42)\n",
    "torch.manual_seed(42)\n",
    "\n",
    "# mnist_data = MNIST(root=\"./data\", train=True, download=True)\n",
    "# xs, ys = mnist_data.data, mnist_data.targets\n",
    "# xs = xs / 255\n",
    "# xs, ys = xs.numpy(), ys.numpy()\n",
    "# xs = xs.reshape(len(ys), -1)\n",
    "\n",
    "# fmnist_data = FashionMNIST(root=\"./data\", train=True, download=True)\n",
    "# xs_ood = fmnist_data.data\n",
    "# xs_ood = xs_ood / 255\n",
    "# xs_ood = xs_ood.numpy()\n",
    "# xs_ood = xs_ood.reshape(len(ys), -1)\n",
    "\n",
    "xs_all, ys_all = get_dataset(\"Covertype\")\n",
    "\n",
    "id_mask = np.isin(ys_all, id_classes)\n",
    "xs, ys = xs_all[id_mask], ys_all[id_mask]\n",
    "\n",
    "\n",
    "n_normal = len(xs)\n",
    "anom_insert_idcs = get_anom_idcs(len(xs), anom_len, anom_proba)\n",
    "\n",
    "# anom_insert_idcs = np.sort(\n",
    "#     np.random.choice(np.arange(n_normal), size=round(anom_proba/(1-anom_proba)), replace=False)\n",
    "# )[::-1]\n",
    "\n",
    "n_anom = len(anom_insert_idcs)\n",
    "\n",
    "y_unique = np.unique(ys)\n",
    "\n",
    "\n",
    "if ood_type == \"other\":\n",
    "    ood_stream = synth.RandomRBF(\n",
    "        seed_model=42, seed_sample=42, n_classes=10, n_features=xs.shape[-1]\n",
    "    ).take(n_anom)\n",
    "    xs_ood, _ = river2np_dataset(ood_stream)\n",
    "elif ood_type == \"classes\":\n",
    "    xs_ood = xs_all[np.isin(ys_all, ood_classes)]\n",
    "\n",
    "\n",
    "is_anom = np.zeros(len(xs)).astype(\"bool\")\n",
    "if anom_type == \"label_flip\":\n",
    "    x_contam, y_contam = xs.copy(), ys.copy()\n",
    "    y_contam[anom_insert_idcs] = np.random.choice(y_unique, size=n_anom)\n",
    "    # y_contam[anom_insert_idcs] = anom_class\n",
    "    is_anom[anom_insert_idcs] = True\n",
    "elif anom_type == \"feature_swap\":\n",
    "    swap_ratio = 0.1\n",
    "    n_swap = round(swap_ratio * xs.shape[-1])\n",
    "    swap_idcs = np.random\n",
    "\n",
    "    x_contam, y_contam = xs.copy(), ys.copy()\n",
    "    y_contam[anom_insert_idcs] = np.random.choice(y_unique, size=n_anom)\n",
    "    # y_contam[anom_insert_idcs] = anom_class\n",
    "    is_anom[anom_insert_idcs] = True\n",
    "else:\n",
    "    anom_idcs = np.random.choice(len(xs_ood), size=n_anom, replace=True)\n",
    "    anoms = xs_ood[anom_idcs]\n",
    "    x_contam, y_contam, is_anom = xs.tolist(), ys.tolist(), is_anom.tolist()\n",
    "    for idx, anom in zip(anom_insert_idcs, anoms):\n",
    "        x_contam.insert(idx, anom)\n",
    "        y_contam.insert(idx, anom_class)\n",
    "        # y_contam.insert(idx, np.random.choice(y_unique))\n",
    "\n",
    "        is_anom.insert(idx, True)\n",
    "\n",
    "    x_contam = np.array(x_contam)\n",
    "    y_contam = np.array(y_contam)\n",
    "\n",
    "label_enc = LabelEncoder()\n",
    "y_contam = label_enc.fit_transform(y_contam)\n",
    "is_anom = np.array(is_anom)\n",
    "\n",
    "data_contam = TensorDataset(\n",
    "    torch.tensor(x_contam, dtype=torch.float),\n",
    "    torch.tensor(y_contam, dtype=torch.long),\n",
    "    torch.tensor(is_anom),\n",
    ")\n",
    "loader_contam = DataLoader(data_contam, batch_size=1, shuffle=False)"
   ]
  },
  {
   "cell_type": "code",
   "execution_count": 15,
   "id": "f88fb3f1",
   "metadata": {},
   "outputs": [
    {
     "name": "stderr",
     "output_type": "stream",
     "text": [
      "  0%|          | 0/93415 [00:00<?, ?it/s]"
     ]
    },
    {
     "name": "stderr",
     "output_type": "stream",
     "text": [
      "100%|██████████| 93415/93415 [00:55<00:00, 1679.27it/s]\n",
      "100%|██████████| 93415/93415 [00:53<00:00, 1759.19it/s]"
     ]
    },
    {
     "name": "stdout",
     "output_type": "stream",
     "text": [
      "0.0069162057740180805\n"
     ]
    },
    {
     "name": "stderr",
     "output_type": "stream",
     "text": [
      "\n"
     ]
    }
   ],
   "source": [
    "torch.manual_seed(42)\n",
    "\n",
    "accuracies = []\n",
    "for skip_anomalies in [True, False]:\n",
    "    model = get_mlp(\n",
    "        in_features=x_contam.shape[-1],\n",
    "        out_features=y_contam.max() + 1,\n",
    "        n_hidden_units=128,\n",
    "        n_hidden_layers=1,\n",
    "    )\n",
    "    model = model.to(device)\n",
    "    optimizer = torch.optim.Adam(model.parameters(), lr=2e-3)\n",
    "\n",
    "    all_preds = []\n",
    "    for x, y, is_anom_i in tqdm(loader_contam):\n",
    "        x, y = x.to(device), y.to(device)\n",
    "\n",
    "        logits = model(x)\n",
    "        pred = torch.argmax(logits, dim=-1)\n",
    "        all_preds.append(pred.detach().cpu().item())\n",
    "\n",
    "        if skip_anomalies and is_anom_i:\n",
    "            continue\n",
    "\n",
    "        loss = F.cross_entropy(logits, y)\n",
    "\n",
    "        loss.backward()\n",
    "        optimizer.step()\n",
    "        optimizer.zero_grad()\n",
    "\n",
    "    all_preds = np.array(all_preds)\n",
    "\n",
    "    accuracies.append((all_preds == y_contam)[~is_anom].mean())\n",
    "print(accuracies[0] - accuracies[1])"
   ]
  },
  {
   "cell_type": "code",
   "execution_count": null,
   "id": "d216cd80",
   "metadata": {},
   "outputs": [],
   "source": [
    "def run(clf_params):\n",
    "    model = get_mlp(\n",
    "        in_features=x_contam.shape[-1],\n",
    "        out_features=y_contam.max() + 1,\n",
    "        n_hidden_units=clf_params['n_hidden_units'],\n",
    "        n_hidden_layers=clf_params['n_hidden_layers'],\n",
    "    )\n",
    "    model = model.to(device)\n",
    "    optimizer = torch.optim.Adam(model.parameters(), lr=2e-3)\n",
    "\n",
    "    all_preds = []\n",
    "    for x, y, is_anom_i in tqdm(loader_contam):\n",
    "        x, y = x.to(device), y.to(device)\n",
    "\n",
    "        logits = model(x)\n",
    "        pred = torch.argmax(logits, dim=-1)\n",
    "        all_preds.append(pred.detach().cpu().item())\n",
    "\n",
    "        if skip_anomalies and is_anom_i:\n",
    "            continue\n",
    "\n",
    "        loss = F.cross_entropy(logits, y)\n",
    "\n",
    "        loss.backward()\n",
    "        optimizer.step()\n",
    "        optimizer.zero_grad()\n",
    "\n",
    "    all_preds = np.array(all_preds)\n",
    "\n",
    "    accuracies.append((all_preds == y_contam)[~is_anom].mean())"
   ]
  },
  {
   "cell_type": "code",
   "execution_count": 9,
   "id": "e10b7e02",
   "metadata": {},
   "outputs": [
    {
     "data": {
      "text/plain": [
       "[np.float64(0.8334591166630997), np.float64(0.8251799452560911)]"
      ]
     },
     "execution_count": 9,
     "metadata": {},
     "output_type": "execute_result"
    }
   ],
   "source": [
    "accuracies"
   ]
  },
  {
   "cell_type": "code",
   "execution_count": 14,
   "id": "4b0e57ab",
   "metadata": {},
   "outputs": [
    {
     "name": "stderr",
     "output_type": "stream",
     "text": [
      "  0%|          | 0/93415 [00:00<?, ?it/s]"
     ]
    },
    {
     "name": "stderr",
     "output_type": "stream",
     "text": [
      "100%|██████████| 93415/93415 [01:29<00:00, 1040.46it/s]\n"
     ]
    },
    {
     "data": {
      "text/plain": [
       "0.9530651603404363"
      ]
     },
     "execution_count": 14,
     "metadata": {},
     "output_type": "execute_result"
    }
   ],
   "source": [
    "autoencoder = get_autoencoder(\n",
    "    in_features=x_contam.shape[-1], compression=.5, dropout=0\n",
    ")\n",
    "autoencoder = autoencoder.to(device)\n",
    "optimizer = torch.optim.Adam(autoencoder.parameters(), lr=1e-4)\n",
    "\n",
    "recon_errors = []\n",
    "for x, y, is_anom_i in tqdm(loader_contam):\n",
    "    x, y = x.to(device), y.to(device)\n",
    "    autoencoder.eval()\n",
    "    with torch.inference_mode():\n",
    "        x_recon = autoencoder(x)\n",
    "        error = F.mse_loss(x_recon, x, reduction=\"none\").mean().item()\n",
    "        recon_errors.append(error)\n",
    "\n",
    "    autoencoder.train()\n",
    "    optimizer.zero_grad()\n",
    "    x_recon = autoencoder(x)\n",
    "    loss = F.mse_loss(x_recon, x)\n",
    "    loss.backward()\n",
    "    optimizer.step()\n",
    "\n",
    "\n",
    "recon_errors = np.array(recon_errors)\n",
    "\n",
    "# ROC AUC for anomaly detection\n",
    "roc_auc_score(is_anom, recon_errors)\n"
   ]
  },
  {
   "cell_type": "code",
   "execution_count": 30,
   "id": "c949c1eb",
   "metadata": {},
   "outputs": [
    {
     "name": "stdout",
     "output_type": "stream",
     "text": [
      "Recall:  0.5825786977145321 Precision:  0.5784628559195033\n"
     ]
    }
   ],
   "source": [
    "threshold = np.quantile(recon_errors, 0.95)\n",
    "print(\n",
    "    \"Recall: \",\n",
    "    (recon_errors > threshold)[is_anom].mean(),\n",
    "    \"Precision: \",\n",
    "    is_anom[recon_errors > threshold].mean(),\n",
    ")"
   ]
  }
 ],
 "metadata": {
  "kernelspec": {
   "display_name": "adalr",
   "language": "python",
   "name": "python3"
  },
  "language_info": {
   "codemirror_mode": {
    "name": "ipython",
    "version": 3
   },
   "file_extension": ".py",
   "mimetype": "text/x-python",
   "name": "python",
   "nbconvert_exporter": "python",
   "pygments_lexer": "ipython3",
   "version": "3.12.11"
  }
 },
 "nbformat": 4,
 "nbformat_minor": 5
}
