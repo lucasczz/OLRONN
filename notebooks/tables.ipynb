{
 "cells": [
  {
   "cell_type": "code",
   "execution_count": 1,
   "metadata": {},
   "outputs": [],
   "source": [
    "from utils import make_topk_tables, get_scheduler_params, label_resets, agg_dataframe, get_best_params, filter_dataframe\n",
    "import pandas as pd \n",
    "import numpy as np"
   ]
  },
  {
   "cell_type": "code",
   "execution_count": 2,
   "metadata": {},
   "outputs": [],
   "source": [
    "df1 = pd.read_csv(\"../reports/schedule/adam_no_reset.csv.zip\")\n",
    "df2 = pd.read_csv(\"../reports/schedule/v6.csv.zip\")\n",
    "pd.concat([df1, df2]).to_csv(\"../reports/schedule/v7.csv.zip\", index=False)"
   ]
  },
  {
   "cell_type": "code",
   "execution_count": 3,
   "metadata": {},
   "outputs": [],
   "source": [
    "# Load results for LR schedulers\n",
    "df_schedulers = pd.read_csv(\"../reports/schedule/v7.csv.zip\")\n",
    "get_scheduler_params(df_schedulers)\n",
    "df_schedulers.loc[df_schedulers[\"gamma\"] == 1.0, \"schedule\"] = \"Fixed\"\n",
    "df_schedulers[\"schedule\"] = df_schedulers.apply(label_resets, axis=1)\n",
    "\n",
    "# Load results for scheduler-free training\n",
    "df_optims = pd.read_csv(\"../reports/optimizers/v7.csv.zip\")\n",
    "df_optims[\"drift_confidence\"] = 0\n",
    "df_optims = df_optims.query('optimizer != \"COCOB\" or base_lr == 100')\n",
    "df = pd.concat([df_schedulers, df_optims])\n",
    "df = df.fillna(1)"
   ]
  },
  {
   "cell_type": "code",
   "execution_count": 4,
   "metadata": {},
   "outputs": [
    {
     "data": {
      "text/plain": [
       "array(['Fixed', 'Exponential', 'Step', 'Cyclic', 'Fixed reset',\n",
       "       'Exponential reset', 'Step reset', 'Cyclic reset'], dtype=object)"
      ]
     },
     "execution_count": 4,
     "metadata": {},
     "output_type": "execute_result"
    }
   ],
   "source": [
    "df[df.optimizer == 'Adam'].schedule.unique()"
   ]
  },
  {
   "cell_type": "code",
   "execution_count": 5,
   "metadata": {},
   "outputs": [],
   "source": [
    "df['accuracy'] *= 100"
   ]
  },
  {
   "cell_type": "code",
   "execution_count": 6,
   "metadata": {},
   "outputs": [],
   "source": [
    "df_mean = agg_dataframe(\n",
    "    df,\n",
    "    cols_to_keep=[\n",
    "        \"dataset\",\n",
    "        \"optimizer\",\n",
    "        \"schedule\",\n",
    "        \"gamma\",\n",
    "        \"maxlr\",\n",
    "        \"base_lr\",\n",
    "        \"drift_confidence\",\n",
    "    ],\n",
    ")\n",
    "df_best = get_best_params(\n",
    "    df_mean,\n",
    "    params=[\"gamma\", \"maxlr\", \"base_lr\", \"drift_confidence\"],\n",
    "    fixed_params=[\"dataset\", \"optimizer\", \"schedule\"],\n",
    "    metric=\"accuracy_mean\",\n",
    ")"
   ]
  },
  {
   "cell_type": "code",
   "execution_count": 7,
   "metadata": {},
   "outputs": [],
   "source": [
    "df_best[df_best.dataset == \"Insects abrupt\"].to_csv(\"../reports/effective_lrs/best_params_insects_abrupt.csv\", index=False)"
   ]
  },
  {
   "cell_type": "code",
   "execution_count": 8,
   "metadata": {},
   "outputs": [
    {
     "data": {
      "text/plain": [
       "schedule\n",
       "Cyclic               1.000000\n",
       "Cyclic reset         1.000000\n",
       "Exponential          0.999878\n",
       "Exponential reset    0.999939\n",
       "Fixed                1.000000\n",
       "Fixed reset          1.000000\n",
       "Plateau              1.000000\n",
       "Step                 0.875000\n",
       "Step reset           0.500000\n",
       "Name: gamma, dtype: float64"
      ]
     },
     "execution_count": 8,
     "metadata": {},
     "output_type": "execute_result"
    }
   ],
   "source": [
    "df_best.groupby([\"schedule\"])['gamma'].agg(pd.Series.mode)"
   ]
  },
  {
   "cell_type": "code",
   "execution_count": 9,
   "metadata": {},
   "outputs": [
    {
     "data": {
      "text/plain": [
       "schedule\n",
       "Cyclic               0.25\n",
       "Cyclic reset         0.25\n",
       "Exponential          1.00\n",
       "Exponential reset    1.00\n",
       "Fixed                1.00\n",
       "Fixed reset          1.00\n",
       "Plateau              1.00\n",
       "Step                 1.00\n",
       "Step reset           1.00\n",
       "Name: maxlr, dtype: float64"
      ]
     },
     "execution_count": 9,
     "metadata": {},
     "output_type": "execute_result"
    }
   ],
   "source": [
    "df_best.groupby([\"schedule\"])['maxlr'].agg(pd.Series.mode)"
   ]
  },
  {
   "cell_type": "code",
   "execution_count": 10,
   "metadata": {},
   "outputs": [],
   "source": [
    "drift_confidence = 1e-4\n",
    "filter_dicts = [\n",
    "    {\"schedule\": \"Step\", \"gamma\": 0.75},\n",
    "    {\"schedule\": \"Step reset\", \"gamma\": 0.5, \"drift_confidence\": drift_confidence},\n",
    "    {\"schedule\": \"Exponential\", \"gamma\": 1 - 2**-13}, \n",
    "    {\n",
    "        \"schedule\": \"Exponential reset\",\n",
    "        \"gamma\": 1 - 2**-12,\n",
    "        \"drift_confidence\": drift_confidence\n",
    "    },\n",
    "    {\"schedule\": \"Cyclic\", \"maxlr\": 0.250},\n",
    "    {\"schedule\": \"Cyclic reset\", \"maxlr\": 0.250, \"drift_confidence\": drift_confidence},\n",
    "    {\"schedule\": \"Fixed\"},\n",
    "    {\"schedule\": \"Fixed reset\"},\n",
    "    {\"optimizer\": \"COCOB\", \"base_lr\": 100},\n",
    "]\n",
    "# df_filter = pd.DataFrame(filter_dicts)\n",
    "df_filtered = filter_dataframe(df, filter_dicts)"
   ]
  },
  {
   "cell_type": "code",
   "execution_count": 11,
   "metadata": {},
   "outputs": [
    {
     "data": {
      "text/plain": [
       "array(['Fixed', 'Exponential', 'Step', 'Cyclic', 'Plateau', 'Fixed reset',\n",
       "       'Exponential reset', 'Step reset', 'Cyclic reset'], dtype=object)"
      ]
     },
     "execution_count": 11,
     "metadata": {},
     "output_type": "execute_result"
    }
   ],
   "source": [
    "df['schedule'].unique()"
   ]
  },
  {
   "cell_type": "code",
   "execution_count": 12,
   "metadata": {},
   "outputs": [],
   "source": [
    "# Define which data to show in table\n",
    "datasets_all = [\n",
    "    \"RBF abrupt\",\n",
    "    \"RBF incr.\",\n",
    "    \"Covertype\",\n",
    "    \"Electricity\",\n",
    "    \"Insects abrupt\",\n",
    "    \"Insects gradual\",\n",
    "    \"Insects incr.\",\n",
    "]\n",
    "schedules_all = [\n",
    "    \"Fixed\",\n",
    "    \"Fixed reset\",\n",
    "    \"Exponential\",\n",
    "    \"Exponential reset\",\n",
    "    \"Step\",\n",
    "    \"Step reset\",\n",
    "    \"Cyclic\",\n",
    "    \"Cyclic reset\",\n",
    "]\n",
    "optimizers_all = [\n",
    "    \"SGD\",\n",
    "    \"Adam\",\n",
    "    \"SGDHD\",\n",
    "    \"COCOB\",\n",
    "    \"WNGrad\",\n",
    "    \"DAdaptSGD\",\n",
    "    \"DoG\",\n",
    "    \"DDoG\",\n",
    "    \"Mechanic\",\n",
    "    \"DAdaptAdam\",\n",
    "    \"DAdaptLion\",\n",
    "    \"AdaGrad\",\n",
    "]\n",
    "make_topk_tables(\n",
    "    df_filtered, datasets_all, optimizers_all, schedules_all, ks=[1, 3], suffix=\"all\"\n",
    ")"
   ]
  }
 ],
 "metadata": {
  "kernelspec": {
   "display_name": "adalr",
   "language": "python",
   "name": "python3"
  },
  "language_info": {
   "codemirror_mode": {
    "name": "ipython",
    "version": 3
   },
   "file_extension": ".py",
   "mimetype": "text/x-python",
   "name": "python",
   "nbconvert_exporter": "python",
   "pygments_lexer": "ipython3",
   "version": "3.9.16"
  },
  "orig_nbformat": 4
 },
 "nbformat": 4,
 "nbformat_minor": 2
}
