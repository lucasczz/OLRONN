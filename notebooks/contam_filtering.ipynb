{
 "cells": [
  {
   "cell_type": "code",
   "execution_count": 8,
   "id": "e19e3255",
   "metadata": {},
   "outputs": [],
   "source": [
    "import pandas as pd\n",
    "import numpy as np\n",
    "import matplotlib.pyplot as plt"
   ]
  },
  {
   "cell_type": "code",
   "execution_count": 5,
   "id": "d4024994",
   "metadata": {},
   "outputs": [
    {
     "name": "stdout",
     "output_type": "stream",
     "text": [
      "Skipping line 715: Expecting value: line 1 column 896403 (char 896402)\n"
     ]
    }
   ],
   "source": [
    "import json\n",
    "\n",
    "rows = []\n",
    "with open(\"../reports/contam_filtering_v2.jsonl\", \"r\") as f:\n",
    "    for i, line in enumerate(f, start=1):\n",
    "        try:\n",
    "            rows.append(json.loads(line))\n",
    "        except json.JSONDecodeError as e:\n",
    "            print(f\"Skipping line {i}: {e}\")\n",
    "\n",
    "df = pd.DataFrame(rows)\n"
   ]
  },
  {
   "cell_type": "code",
   "execution_count": 10,
   "id": "a32c1c98",
   "metadata": {},
   "outputs": [],
   "source": [
    "df = pd.read_json(\"../reports/contam_filtering_v2.jsonl\", lines=True, orient=\"records\")\n",
    "df[\"preds\"] = df[\"preds\"].apply(np.array)\n",
    "df[\"labels\"] = df[\"labels\"].apply(np.array)\n",
    "df[\"is_anom\"] = df[\"is_anom\"].apply(np.array)\n",
    "\n",
    "df[\"accuracy\"] = df.apply(\n",
    "    lambda row: (row[\"preds\"] == row[\"labels\"])[~row[\"is_anom\"]].mean() * 100, axis=1\n",
    ")\n",
    "\n",
    "parameters = [\"dataset\", \"anomaly_type\", \"p_anomaly\", \"mode\", \"threshold_type\"]\n",
    "dfm = df.groupby(parameters)[\"accuracy\"].mean()"
   ]
  },
  {
   "cell_type": "code",
   "execution_count": 12,
   "id": "f9bb6f85",
   "metadata": {},
   "outputs": [
    {
     "data": {
      "text/plain": [
       "anomaly_type  p_anomaly  mode                threshold_type\n",
       "feature_swap  0.02       online              hard              91.858703\n",
       "                                             linear            92.518073\n",
       "                                             sigmoid           91.920669\n",
       "                         pre-trained         hard              92.033506\n",
       "                                             linear            91.836686\n",
       "                                             no_filter         91.621812\n",
       "                                             sigmoid           91.990012\n",
       "                         pre-trained+online  hard              91.968904\n",
       "                                             linear            90.508687\n",
       "                                             sigmoid           91.965171\n",
       "              0.04       online              hard              91.765426\n",
       "                                             linear            91.509278\n",
       "                                             sigmoid           91.761793\n",
       "                         pre-trained         hard              91.884635\n",
       "                                             linear            91.467087\n",
       "                                             no_filter         91.256289\n",
       "                                             sigmoid           91.958632\n",
       "                         pre-trained+online  hard              91.887743\n",
       "                                             linear            88.229548\n",
       "                                             sigmoid           91.855570\n",
       "              0.08       online              hard              91.605977\n",
       "                                             linear            91.218440\n",
       "                                             sigmoid           91.646319\n",
       "                         pre-trained         hard              91.682896\n",
       "                                             linear            76.408756\n",
       "                                             no_filter         90.882043\n",
       "                                             sigmoid           91.771165\n",
       "                         pre-trained+online  hard              91.719628\n",
       "                                             linear            74.206045\n",
       "                                             sigmoid           91.706329\n",
       "ood_class     0.02       online              hard              91.993735\n",
       "                                             linear            92.057476\n",
       "                                             sigmoid           92.042179\n",
       "                         pre-trained         hard              92.081815\n",
       "                                             linear            92.136286\n",
       "                                             no_filter         92.067212\n",
       "                                             sigmoid           92.122845\n",
       "                         pre-trained+online  hard              92.116820\n",
       "                                             linear            92.244306\n",
       "                                             sigmoid           92.207913\n",
       "              0.04       online              hard              91.733836\n",
       "                                             linear            91.997808\n",
       "                                             sigmoid           91.885411\n",
       "                         pre-trained         hard              92.100706\n",
       "                                             linear            92.135246\n",
       "                                             no_filter         92.013571\n",
       "                                             sigmoid           92.149150\n",
       "                         pre-trained+online  hard              92.015424\n",
       "                                             linear            92.090282\n",
       "                                             sigmoid           92.173026\n",
       "              0.08       online              hard              91.505246\n",
       "                                             linear            91.962407\n",
       "                                             sigmoid           91.847945\n",
       "                         pre-trained         hard              92.022650\n",
       "                                             linear            92.079188\n",
       "                                             no_filter         91.902396\n",
       "                                             sigmoid           92.171873\n",
       "                         pre-trained+online  hard              92.025665\n",
       "                                             linear            92.015703\n",
       "                                             sigmoid           92.185777\n",
       "Name: accuracy, dtype: float64"
      ]
     },
     "execution_count": 12,
     "metadata": {},
     "output_type": "execute_result"
    }
   ],
   "source": [
    "dfm.xs(\"Covertype\", level=0)"
   ]
  },
  {
   "cell_type": "code",
   "execution_count": 35,
   "id": "a0158b75",
   "metadata": {},
   "outputs": [],
   "source": [
    "df = pd.read_json(\n",
    "    \"../reports/contam_filtering_ctype.jsonl\", lines=True, orient=\"records\"\n",
    ")\n",
    "df[\"steepness\"] = df[\"steepness\"].fillna(np.inf)\n",
    "df[\"preds\"] = df[\"preds\"].apply(np.array)\n",
    "df[\"labels\"] = df[\"labels\"].apply(np.array)\n",
    "df[\"loss_weights\"] = df[\"loss_weights\"].apply(np.array)\n",
    "df[\"is_anom\"] = df[\"is_anom\"].apply(np.array)\n",
    "\n",
    "df[\"accuracy\"] = df.apply(\n",
    "    lambda row: (row[\"preds\"] == row[\"labels\"])[~row[\"is_anom\"]].mean() * 100, axis=1\n",
    ")\n",
    "\n",
    "parameters = [\"dataset\", \"anomaly_type\", \"p_anomaly\", \"steepness\", \"threshold_quantile\"]\n",
    "dfm = df.groupby(parameters)[\"accuracy\"].mean()"
   ]
  },
  {
   "cell_type": "code",
   "execution_count": 25,
   "id": "b12d60ae",
   "metadata": {},
   "outputs": [
    {
     "data": {
      "text/plain": [
       "[<matplotlib.lines.Line2D at 0x77889515a060>]"
      ]
     },
     "execution_count": 25,
     "metadata": {},
     "output_type": "execute_result"
    },
    {
     "data": {
      "image/png": "[encoded data removed]",
      "text/plain": [
       "<Figure size 640x480 with 1 Axes>"
      ]
     },
     "metadata": {},
     "output_type": "display_data"
    }
   ],
   "source": [
    "# Visualize soft threshold\n",
    "threshold = .04\n",
    "steepness = 20 / threshold\n",
    "x = np.linspace(0, 0.05, 300)\n",
    "y = 1 / (1 + np.exp(steepness * (x - threshold)))\n",
    "fig, ax = plt.subplots()\n",
    "ax.set_ylim(0, 1.05)\n",
    "ax.plot(x, y)"
   ]
  }
 ],
 "metadata": {
  "kernelspec": {
   "display_name": "adalr",
   "language": "python",
   "name": "python3"
  },
  "language_info": {
   "codemirror_mode": {
    "name": "ipython",
    "version": 3
   },
   "file_extension": ".py",
   "mimetype": "text/x-python",
   "name": "python",
   "nbconvert_exporter": "python",
   "pygments_lexer": "ipython3",
   "version": "3.12.11"
  }
 },
 "nbformat": 4,
 "nbformat_minor": 5
}
