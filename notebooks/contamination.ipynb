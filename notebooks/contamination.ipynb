{
 "cells": [
  {
   "cell_type": "code",
   "execution_count": null,
   "id": "7df18a31",
   "metadata": {},
   "outputs": [],
   "source": [
    "import pandas as pd\n",
    "import numpy as np\n",
    "import matplotlib.pyplot as plt"
   ]
  },
  {
   "cell_type": "code",
   "execution_count": null,
   "metadata": {},
   "outputs": [],
   "source": [
    "# Get results of experiment testing impact of contamination percentage on performance\n",
    "df = pd.read_json(\"../reports/contamination.jsonl\", lines=True, orient=\"records\")\n",
    "\n",
    "df[\"preds\"] = df[\"preds\"].apply(np.array)\n",
    "df[\"labels\"] = df[\"labels\"].apply(np.array)\n",
    "df[\"is_anom\"] = df[\"is_anom\"].apply(np.array)\n",
    "\n",
    "df[\"accuracy\"] = df.apply(\n",
    "    lambda row: (row[\"preds\"] == row[\"labels\"])[~row[\"is_anom\"]].mean() * 100, axis=1\n",
    ")\n",
    "parameters = [\"dataset\", \"anomaly_type\", \"p_anomaly\", \"len_anomaly\"]\n",
    "\n",
    "dfm = df.groupby(parameters)[\"accuracy\"].agg([\"mean\", \"std\"])\n",
    "dfm = dfm.reset_index()"
   ]
  },
  {
   "cell_type": "code",
   "execution_count": null,
   "metadata": {},
   "outputs": [],
   "source": [
    "dfm[(dfm['anomaly_type'] == 'feature_swap') & (dfm['len_anomaly'] == 2)]"
   ]
  },
  {
   "cell_type": "code",
   "execution_count": null,
   "id": "065234df",
   "metadata": {},
   "outputs": [],
   "source": [
    "# Plot error rate vs. anomaly percentage\n",
    "fig, axs = plt.subplots(nrows=3, figsize=(6, 8), sharex=True, sharey=True)\n",
    "\n",
    "for ax, (anom_type, df_anom_type) in zip(axs, dfm.groupby(\"anomaly_type\")):\n",
    "    ax.set_title(anom_type)\n",
    "    for len_anomaly, df_len_anomaly in df_anom_type.groupby(\"len_anomaly\"):\n",
    "        ax.plot(\n",
    "            df_len_anomaly[\"p_anomaly\"], 100 - df_len_anomaly[\"mean\"], label=len_anomaly\n",
    "        )\n",
    "\n",
    "\n",
    "ax.legend()\n",
    "fig.tight_layout()"
   ]
  }
 ],
 "metadata": {
  "language_info": {
   "name": "python"
  }
 },
 "nbformat": 4,
 "nbformat_minor": 5
}
