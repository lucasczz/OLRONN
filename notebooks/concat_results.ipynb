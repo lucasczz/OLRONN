{
 "cells": [
  {
   "cell_type": "code",
   "execution_count": 1,
   "metadata": {},
   "outputs": [],
   "source": [
    "import pandas as pd"
   ]
  },
  {
   "cell_type": "code",
   "execution_count": 6,
   "metadata": {},
   "outputs": [],
   "source": [
    "mnist = pd.read_csv(\"../reports/pretune/batch_mode_mnist.csv.zip\")\n",
    "rest = pd.read_csv(\"../reports/pretune/batch_mode_.csv.zip\")\n",
    "all = pd.concat([rest, mnist])\n",
    "all.to_csv(\"../reports/pretune/batch_mode.csv.zip\", index=False)"
   ]
  },
  {
   "cell_type": "code",
   "execution_count": 7,
   "metadata": {},
   "outputs": [
    {
     "data": {
      "text/plain": [
       "array(['Agrawal', 'LED', 'RBF abrupt', 'RBF incr.', 'RBF static',\n",
       "       'Insects incr.', 'Insects gradual', 'Insects abrupt',\n",
       "       'Electricity', 'Covertype', 'Rotated MNIST'], dtype=object)"
      ]
     },
     "execution_count": 7,
     "metadata": {},
     "output_type": "execute_result"
    }
   ],
   "source": [
    "mnist = pd.read_csv(\"../reports/pretune/batch_mode.csv.zip\")\n",
    "mnist.dataset.unique()"
   ]
  },
  {
   "cell_type": "code",
   "execution_count": 5,
   "metadata": {},
   "outputs": [
    {
     "data": {
      "text/html": [
       "<div>\n",
       "<style scoped>\n",
       "    .dataframe tbody tr th:only-of-type {\n",
       "        vertical-align: middle;\n",
       "    }\n",
       "\n",
       "    .dataframe tbody tr th {\n",
       "        vertical-align: top;\n",
       "    }\n",
       "\n",
       "    .dataframe thead th {\n",
       "        text-align: right;\n",
       "    }\n",
       "</style>\n",
       "<table border=\"1\" class=\"dataframe\">\n",
       "  <thead>\n",
       "    <tr style=\"text-align: right;\">\n",
       "      <th></th>\n",
       "      <th>base_lr</th>\n",
       "      <th>batch_size</th>\n",
       "      <th>seed</th>\n",
       "      <th>n_hidden_layers</th>\n",
       "      <th>n_hidden_units</th>\n",
       "      <th>n_samples</th>\n",
       "      <th>gamma</th>\n",
       "      <th>best_val_accuracy</th>\n",
       "      <th>best_val_loss</th>\n",
       "      <th>best_epoch</th>\n",
       "      <th>optimizer</th>\n",
       "      <th>dataset</th>\n",
       "      <th>n_params</th>\n",
       "      <th>schedule</th>\n",
       "    </tr>\n",
       "  </thead>\n",
       "  <tbody>\n",
       "    <tr>\n",
       "      <th>0</th>\n",
       "      <td>1.00000</td>\n",
       "      <td>4</td>\n",
       "      <td>0</td>\n",
       "      <td>1</td>\n",
       "      <td>64</td>\n",
       "      <td>500</td>\n",
       "      <td>0.999756</td>\n",
       "      <td>2.96</td>\n",
       "      <td>2.326316</td>\n",
       "      <td>0</td>\n",
       "      <td>SGD</td>\n",
       "      <td>Agrawal</td>\n",
       "      <td>NaN</td>\n",
       "      <td>NaN</td>\n",
       "    </tr>\n",
       "    <tr>\n",
       "      <th>1</th>\n",
       "      <td>1.00000</td>\n",
       "      <td>4</td>\n",
       "      <td>1</td>\n",
       "      <td>1</td>\n",
       "      <td>64</td>\n",
       "      <td>500</td>\n",
       "      <td>0.999756</td>\n",
       "      <td>2.92</td>\n",
       "      <td>2.329599</td>\n",
       "      <td>0</td>\n",
       "      <td>SGD</td>\n",
       "      <td>Agrawal</td>\n",
       "      <td>NaN</td>\n",
       "      <td>NaN</td>\n",
       "    </tr>\n",
       "    <tr>\n",
       "      <th>2</th>\n",
       "      <td>1.00000</td>\n",
       "      <td>4</td>\n",
       "      <td>2</td>\n",
       "      <td>1</td>\n",
       "      <td>64</td>\n",
       "      <td>500</td>\n",
       "      <td>0.999756</td>\n",
       "      <td>2.80</td>\n",
       "      <td>2.420205</td>\n",
       "      <td>0</td>\n",
       "      <td>SGD</td>\n",
       "      <td>Agrawal</td>\n",
       "      <td>NaN</td>\n",
       "      <td>NaN</td>\n",
       "    </tr>\n",
       "    <tr>\n",
       "      <th>3</th>\n",
       "      <td>1.00000</td>\n",
       "      <td>4</td>\n",
       "      <td>3</td>\n",
       "      <td>1</td>\n",
       "      <td>64</td>\n",
       "      <td>500</td>\n",
       "      <td>0.999756</td>\n",
       "      <td>2.92</td>\n",
       "      <td>2.326180</td>\n",
       "      <td>0</td>\n",
       "      <td>SGD</td>\n",
       "      <td>Agrawal</td>\n",
       "      <td>NaN</td>\n",
       "      <td>NaN</td>\n",
       "    </tr>\n",
       "    <tr>\n",
       "      <th>4</th>\n",
       "      <td>1.00000</td>\n",
       "      <td>4</td>\n",
       "      <td>4</td>\n",
       "      <td>1</td>\n",
       "      <td>64</td>\n",
       "      <td>500</td>\n",
       "      <td>0.999756</td>\n",
       "      <td>2.56</td>\n",
       "      <td>2.726966</td>\n",
       "      <td>0</td>\n",
       "      <td>SGD</td>\n",
       "      <td>Agrawal</td>\n",
       "      <td>NaN</td>\n",
       "      <td>NaN</td>\n",
       "    </tr>\n",
       "    <tr>\n",
       "      <th>...</th>\n",
       "      <td>...</td>\n",
       "      <td>...</td>\n",
       "      <td>...</td>\n",
       "      <td>...</td>\n",
       "      <td>...</td>\n",
       "      <td>...</td>\n",
       "      <td>...</td>\n",
       "      <td>...</td>\n",
       "      <td>...</td>\n",
       "      <td>...</td>\n",
       "      <td>...</td>\n",
       "      <td>...</td>\n",
       "      <td>...</td>\n",
       "      <td>...</td>\n",
       "    </tr>\n",
       "    <tr>\n",
       "      <th>10555</th>\n",
       "      <td>0.03125</td>\n",
       "      <td>4</td>\n",
       "      <td>0</td>\n",
       "      <td>3</td>\n",
       "      <td>128</td>\n",
       "      <td>1000</td>\n",
       "      <td>1.000000</td>\n",
       "      <td>3.50</td>\n",
       "      <td>0.309815</td>\n",
       "      <td>11</td>\n",
       "      <td>SGD</td>\n",
       "      <td>Rotated MNIST</td>\n",
       "      <td>NaN</td>\n",
       "      <td>NaN</td>\n",
       "    </tr>\n",
       "    <tr>\n",
       "      <th>10556</th>\n",
       "      <td>0.03125</td>\n",
       "      <td>4</td>\n",
       "      <td>1</td>\n",
       "      <td>3</td>\n",
       "      <td>128</td>\n",
       "      <td>1000</td>\n",
       "      <td>1.000000</td>\n",
       "      <td>3.44</td>\n",
       "      <td>0.348910</td>\n",
       "      <td>19</td>\n",
       "      <td>SGD</td>\n",
       "      <td>Rotated MNIST</td>\n",
       "      <td>NaN</td>\n",
       "      <td>NaN</td>\n",
       "    </tr>\n",
       "    <tr>\n",
       "      <th>10557</th>\n",
       "      <td>0.03125</td>\n",
       "      <td>4</td>\n",
       "      <td>2</td>\n",
       "      <td>3</td>\n",
       "      <td>128</td>\n",
       "      <td>1000</td>\n",
       "      <td>1.000000</td>\n",
       "      <td>3.72</td>\n",
       "      <td>0.248005</td>\n",
       "      <td>17</td>\n",
       "      <td>SGD</td>\n",
       "      <td>Rotated MNIST</td>\n",
       "      <td>NaN</td>\n",
       "      <td>NaN</td>\n",
       "    </tr>\n",
       "    <tr>\n",
       "      <th>10558</th>\n",
       "      <td>0.03125</td>\n",
       "      <td>4</td>\n",
       "      <td>3</td>\n",
       "      <td>3</td>\n",
       "      <td>128</td>\n",
       "      <td>1000</td>\n",
       "      <td>1.000000</td>\n",
       "      <td>3.60</td>\n",
       "      <td>0.275051</td>\n",
       "      <td>19</td>\n",
       "      <td>SGD</td>\n",
       "      <td>Rotated MNIST</td>\n",
       "      <td>NaN</td>\n",
       "      <td>NaN</td>\n",
       "    </tr>\n",
       "    <tr>\n",
       "      <th>10559</th>\n",
       "      <td>0.03125</td>\n",
       "      <td>4</td>\n",
       "      <td>4</td>\n",
       "      <td>3</td>\n",
       "      <td>128</td>\n",
       "      <td>1000</td>\n",
       "      <td>1.000000</td>\n",
       "      <td>3.48</td>\n",
       "      <td>0.349734</td>\n",
       "      <td>18</td>\n",
       "      <td>SGD</td>\n",
       "      <td>Rotated MNIST</td>\n",
       "      <td>NaN</td>\n",
       "      <td>NaN</td>\n",
       "    </tr>\n",
       "  </tbody>\n",
       "</table>\n",
       "<p>10560 rows × 14 columns</p>\n",
       "</div>"
      ],
      "text/plain": [
       "       base_lr  batch_size  seed  n_hidden_layers  n_hidden_units  n_samples   \n",
       "0      1.00000           4     0                1              64        500  \\\n",
       "1      1.00000           4     1                1              64        500   \n",
       "2      1.00000           4     2                1              64        500   \n",
       "3      1.00000           4     3                1              64        500   \n",
       "4      1.00000           4     4                1              64        500   \n",
       "...        ...         ...   ...              ...             ...        ...   \n",
       "10555  0.03125           4     0                3             128       1000   \n",
       "10556  0.03125           4     1                3             128       1000   \n",
       "10557  0.03125           4     2                3             128       1000   \n",
       "10558  0.03125           4     3                3             128       1000   \n",
       "10559  0.03125           4     4                3             128       1000   \n",
       "\n",
       "          gamma  best_val_accuracy  best_val_loss  best_epoch optimizer   \n",
       "0      0.999756               2.96       2.326316           0       SGD  \\\n",
       "1      0.999756               2.92       2.329599           0       SGD   \n",
       "2      0.999756               2.80       2.420205           0       SGD   \n",
       "3      0.999756               2.92       2.326180           0       SGD   \n",
       "4      0.999756               2.56       2.726966           0       SGD   \n",
       "...         ...                ...            ...         ...       ...   \n",
       "10555  1.000000               3.50       0.309815          11       SGD   \n",
       "10556  1.000000               3.44       0.348910          19       SGD   \n",
       "10557  1.000000               3.72       0.248005          17       SGD   \n",
       "10558  1.000000               3.60       0.275051          19       SGD   \n",
       "10559  1.000000               3.48       0.349734          18       SGD   \n",
       "\n",
       "             dataset  n_params schedule  \n",
       "0            Agrawal       NaN      NaN  \n",
       "1            Agrawal       NaN      NaN  \n",
       "2            Agrawal       NaN      NaN  \n",
       "3            Agrawal       NaN      NaN  \n",
       "4            Agrawal       NaN      NaN  \n",
       "...              ...       ...      ...  \n",
       "10555  Rotated MNIST       NaN      NaN  \n",
       "10556  Rotated MNIST       NaN      NaN  \n",
       "10557  Rotated MNIST       NaN      NaN  \n",
       "10558  Rotated MNIST       NaN      NaN  \n",
       "10559  Rotated MNIST       NaN      NaN  \n",
       "\n",
       "[10560 rows x 14 columns]"
      ]
     },
     "execution_count": 5,
     "metadata": {},
     "output_type": "execute_result"
    }
   ],
   "source": [
    "mnist"
   ]
  },
  {
   "cell_type": "code",
   "execution_count": 27,
   "metadata": {},
   "outputs": [
    {
     "data": {
      "text/plain": [
       "array(['Agrawal', 'LED', 'RBF abrupt', 'RBF incr.', 'RBF static',\n",
       "       'Insects incr.', 'Insects gradual', 'Insects abrupt',\n",
       "       'Electricity', 'Covertype', 'Rotated MNIST'], dtype=object)"
      ]
     },
     "execution_count": 27,
     "metadata": {},
     "output_type": "execute_result"
    }
   ],
   "source": [
    "all.dataset.unique()"
   ]
  },
  {
   "cell_type": "code",
   "execution_count": 18,
   "metadata": {},
   "outputs": [
    {
     "data": {
      "text/plain": [
       "array(['Exp'], dtype=object)"
      ]
     },
     "execution_count": 18,
     "metadata": {},
     "output_type": "execute_result"
    }
   ],
   "source": [
    "\n",
    "# rest = pd.read_csv(\"../reports/pretune/batch_mode_.csv.zip\")\n",
    "rest[rest.dataset == \"Covertype\"].schedule.unique()"
   ]
  },
  {
   "cell_type": "code",
   "execution_count": 24,
   "metadata": {},
   "outputs": [
    {
     "name": "stderr",
     "output_type": "stream",
     "text": [
      "/tmp/ipykernel_57008/2418735171.py:2: DtypeWarning: Columns (8) have mixed types. Specify dtype option on import or set low_memory=False.\n",
      "  rest = pd.read_csv(\"../reports/pretune/prequential_.csv.zip\")\n"
     ]
    }
   ],
   "source": [
    "mnist = pd.read_csv(\"../reports/pretune/prequential_mnist.csv.zip\")\n",
    "rest = pd.read_csv(\"../reports/pretune/prequential_.csv.zip\")\n",
    "rest = rest[rest.schedule == 'Exponential']\n",
    "real = pd.read_csv(\"../reports/pretune/prequential_new.csv.zip\")\n",
    "all = pd.concat([rest, mnist, real])\n",
    "all.to_csv(\"../reports/pretune/prequential.csv.zip\", index=False)"
   ]
  },
  {
   "cell_type": "code",
   "execution_count": 9,
   "metadata": {},
   "outputs": [
    {
     "name": "stderr",
     "output_type": "stream",
     "text": [
      "/tmp/ipykernel_57008/432459219.py:1: DtypeWarning: Columns (0,1,2,3,4,6,8,10,11,12,13,14) have mixed types. Specify dtype option on import or set low_memory=False.\n",
      "  mnist = pd.read_csv(\"../reports/model_sizes/Rotated MNIST.csv.zip\")\n",
      "/tmp/ipykernel_57008/432459219.py:3: DtypeWarning: Columns (7) have mixed types. Specify dtype option on import or set low_memory=False.\n",
      "  rest = pd.read_csv(\"../reports/model_sizes/v1_.csv.zip\")\n"
     ]
    }
   ],
   "source": [
    "mnist = pd.read_csv(\"../reports/model_sizes/Rotated MNIST.csv.zip\")\n",
    "mnist = mnist.drop(1)\n",
    "rest = pd.read_csv(\"../reports/model_sizes/v1_.csv.zip\")\n",
    "rest = rest.fillna(\"None\")\n",
    "all = pd.concat([rest, mnist])\n",
    "all.to_csv(\"../reports/model_sizes/v1.csv.zip\", index=False)"
   ]
  },
  {
   "cell_type": "code",
   "execution_count": 8,
   "metadata": {},
   "outputs": [],
   "source": [
    "mnist = pd.read_csv(\"../reports/optimizers/Rotated MNIST.csv.zip\")\n",
    "plast_control = pd.read_csv(\"../reports/optimizers/plast_control.csv.zip\")\n",
    "more_optims = pd.read_csv(\"../reports/optimizers/more_optims.csv.zip\")\n",
    "rest = pd.read_csv(\"../reports/optimizers/v1_.csv.zip\")\n",
    "all = pd.concat([rest, mnist, plast_control, more_optims])\n",
    "all.to_csv(\"../reports/optimizers/v1.csv.zip\", index=False)"
   ]
  }
 ],
 "metadata": {
  "kernelspec": {
   "display_name": "adalr",
   "language": "python",
   "name": "python3"
  },
  "language_info": {
   "codemirror_mode": {
    "name": "ipython",
    "version": 3
   },
   "file_extension": ".py",
   "mimetype": "text/x-python",
   "name": "python",
   "nbconvert_exporter": "python",
   "pygments_lexer": "ipython3",
   "version": "3.9.16"
  }
 },
 "nbformat": 4,
 "nbformat_minor": 2
}
